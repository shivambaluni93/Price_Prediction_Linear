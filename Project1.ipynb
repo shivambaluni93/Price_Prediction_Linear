{
 "cells": [
  {
   "cell_type": "code",
   "execution_count": 156,
   "metadata": {},
   "outputs": [],
   "source": [
    "import pandas as pd\n",
    "import numpy as np\n",
    "import matplotlib.pyplot as plt\n",
    "import seaborn as sns\n",
    "\n"
   ]
  },
  {
   "cell_type": "code",
   "execution_count": 157,
   "metadata": {},
   "outputs": [
    {
     "data": {
      "text/html": [
       "<div>\n",
       "<style scoped>\n",
       "    .dataframe tbody tr th:only-of-type {\n",
       "        vertical-align: middle;\n",
       "    }\n",
       "\n",
       "    .dataframe tbody tr th {\n",
       "        vertical-align: top;\n",
       "    }\n",
       "\n",
       "    .dataframe thead th {\n",
       "        text-align: right;\n",
       "    }\n",
       "</style>\n",
       "<table border=\"1\" class=\"dataframe\">\n",
       "  <thead>\n",
       "    <tr style=\"text-align: right;\">\n",
       "      <th></th>\n",
       "      <th>Model</th>\n",
       "      <th>Price</th>\n",
       "      <th>Age_08_04</th>\n",
       "      <th>KM</th>\n",
       "      <th>HP</th>\n",
       "      <th>Doors</th>\n",
       "      <th>Cylinders</th>\n",
       "      <th>Gears</th>\n",
       "      <th>Weight</th>\n",
       "    </tr>\n",
       "    <tr>\n",
       "      <th>Id</th>\n",
       "      <th></th>\n",
       "      <th></th>\n",
       "      <th></th>\n",
       "      <th></th>\n",
       "      <th></th>\n",
       "      <th></th>\n",
       "      <th></th>\n",
       "      <th></th>\n",
       "      <th></th>\n",
       "    </tr>\n",
       "  </thead>\n",
       "  <tbody>\n",
       "    <tr>\n",
       "      <th>1</th>\n",
       "      <td>TOYOTA Corolla 2.0 D4D HATCHB TERRA 2/3-Doors</td>\n",
       "      <td>13500</td>\n",
       "      <td>23</td>\n",
       "      <td>46986</td>\n",
       "      <td>90</td>\n",
       "      <td>3</td>\n",
       "      <td>4</td>\n",
       "      <td>5</td>\n",
       "      <td>1165</td>\n",
       "    </tr>\n",
       "    <tr>\n",
       "      <th>2</th>\n",
       "      <td>TOYOTA Corolla 2.0 D4D HATCHB TERRA 2/3-Doors</td>\n",
       "      <td>13750</td>\n",
       "      <td>23</td>\n",
       "      <td>72937</td>\n",
       "      <td>90</td>\n",
       "      <td>3</td>\n",
       "      <td>4</td>\n",
       "      <td>5</td>\n",
       "      <td>1165</td>\n",
       "    </tr>\n",
       "    <tr>\n",
       "      <th>3</th>\n",
       "      <td>ÊTOYOTA Corolla 2.0 D4D HATCHB TERRA 2/3-Doors</td>\n",
       "      <td>13950</td>\n",
       "      <td>24</td>\n",
       "      <td>41711</td>\n",
       "      <td>90</td>\n",
       "      <td>3</td>\n",
       "      <td>4</td>\n",
       "      <td>5</td>\n",
       "      <td>1165</td>\n",
       "    </tr>\n",
       "    <tr>\n",
       "      <th>4</th>\n",
       "      <td>TOYOTA Corolla 2.0 D4D HATCHB TERRA 2/3-Doors</td>\n",
       "      <td>14950</td>\n",
       "      <td>26</td>\n",
       "      <td>48000</td>\n",
       "      <td>90</td>\n",
       "      <td>3</td>\n",
       "      <td>4</td>\n",
       "      <td>5</td>\n",
       "      <td>1165</td>\n",
       "    </tr>\n",
       "    <tr>\n",
       "      <th>5</th>\n",
       "      <td>TOYOTA Corolla 2.0 D4D HATCHB SOL 2/3-Doors</td>\n",
       "      <td>13750</td>\n",
       "      <td>30</td>\n",
       "      <td>38500</td>\n",
       "      <td>90</td>\n",
       "      <td>3</td>\n",
       "      <td>4</td>\n",
       "      <td>5</td>\n",
       "      <td>1170</td>\n",
       "    </tr>\n",
       "    <tr>\n",
       "      <th>...</th>\n",
       "      <td>...</td>\n",
       "      <td>...</td>\n",
       "      <td>...</td>\n",
       "      <td>...</td>\n",
       "      <td>...</td>\n",
       "      <td>...</td>\n",
       "      <td>...</td>\n",
       "      <td>...</td>\n",
       "      <td>...</td>\n",
       "    </tr>\n",
       "    <tr>\n",
       "      <th>1438</th>\n",
       "      <td>TOYOTA Corolla 1.3 16V HATCHB G6 2/3-Doors</td>\n",
       "      <td>7500</td>\n",
       "      <td>69</td>\n",
       "      <td>20544</td>\n",
       "      <td>86</td>\n",
       "      <td>3</td>\n",
       "      <td>4</td>\n",
       "      <td>5</td>\n",
       "      <td>1025</td>\n",
       "    </tr>\n",
       "    <tr>\n",
       "      <th>1439</th>\n",
       "      <td>TOYOTA Corolla 1.3 16V HATCHB LINEA TERRA 2/3-...</td>\n",
       "      <td>10845</td>\n",
       "      <td>72</td>\n",
       "      <td>19000</td>\n",
       "      <td>86</td>\n",
       "      <td>3</td>\n",
       "      <td>4</td>\n",
       "      <td>5</td>\n",
       "      <td>1015</td>\n",
       "    </tr>\n",
       "    <tr>\n",
       "      <th>1440</th>\n",
       "      <td>TOYOTA Corolla 1.3 16V HATCHB LINEA TERRA 2/3-...</td>\n",
       "      <td>8500</td>\n",
       "      <td>71</td>\n",
       "      <td>17016</td>\n",
       "      <td>86</td>\n",
       "      <td>3</td>\n",
       "      <td>4</td>\n",
       "      <td>5</td>\n",
       "      <td>1015</td>\n",
       "    </tr>\n",
       "    <tr>\n",
       "      <th>1441</th>\n",
       "      <td>TOYOTA Corolla 1.3 16V HATCHB LINEA TERRA 2/3-...</td>\n",
       "      <td>7250</td>\n",
       "      <td>70</td>\n",
       "      <td>16916</td>\n",
       "      <td>86</td>\n",
       "      <td>3</td>\n",
       "      <td>4</td>\n",
       "      <td>5</td>\n",
       "      <td>1015</td>\n",
       "    </tr>\n",
       "    <tr>\n",
       "      <th>1442</th>\n",
       "      <td>TOYOTA Corolla 1.6 LB LINEA TERRA 4/5-Doors</td>\n",
       "      <td>6950</td>\n",
       "      <td>76</td>\n",
       "      <td>1</td>\n",
       "      <td>110</td>\n",
       "      <td>5</td>\n",
       "      <td>4</td>\n",
       "      <td>5</td>\n",
       "      <td>1114</td>\n",
       "    </tr>\n",
       "  </tbody>\n",
       "</table>\n",
       "<p>1436 rows × 9 columns</p>\n",
       "</div>"
      ],
      "text/plain": [
       "                                                  Model  Price  Age_08_04  \\\n",
       "Id                                                                          \n",
       "1         TOYOTA Corolla 2.0 D4D HATCHB TERRA 2/3-Doors  13500         23   \n",
       "2         TOYOTA Corolla 2.0 D4D HATCHB TERRA 2/3-Doors  13750         23   \n",
       "3        ÊTOYOTA Corolla 2.0 D4D HATCHB TERRA 2/3-Doors  13950         24   \n",
       "4         TOYOTA Corolla 2.0 D4D HATCHB TERRA 2/3-Doors  14950         26   \n",
       "5           TOYOTA Corolla 2.0 D4D HATCHB SOL 2/3-Doors  13750         30   \n",
       "...                                                 ...    ...        ...   \n",
       "1438         TOYOTA Corolla 1.3 16V HATCHB G6 2/3-Doors   7500         69   \n",
       "1439  TOYOTA Corolla 1.3 16V HATCHB LINEA TERRA 2/3-...  10845         72   \n",
       "1440  TOYOTA Corolla 1.3 16V HATCHB LINEA TERRA 2/3-...   8500         71   \n",
       "1441  TOYOTA Corolla 1.3 16V HATCHB LINEA TERRA 2/3-...   7250         70   \n",
       "1442        TOYOTA Corolla 1.6 LB LINEA TERRA 4/5-Doors   6950         76   \n",
       "\n",
       "         KM   HP  Doors  Cylinders  Gears  Weight  \n",
       "Id                                                 \n",
       "1     46986   90      3          4      5    1165  \n",
       "2     72937   90      3          4      5    1165  \n",
       "3     41711   90      3          4      5    1165  \n",
       "4     48000   90      3          4      5    1165  \n",
       "5     38500   90      3          4      5    1170  \n",
       "...     ...  ...    ...        ...    ...     ...  \n",
       "1438  20544   86      3          4      5    1025  \n",
       "1439  19000   86      3          4      5    1015  \n",
       "1440  17016   86      3          4      5    1015  \n",
       "1441  16916   86      3          4      5    1015  \n",
       "1442      1  110      5          4      5    1114  \n",
       "\n",
       "[1436 rows x 9 columns]"
      ]
     },
     "execution_count": 157,
     "metadata": {},
     "output_type": "execute_result"
    }
   ],
   "source": [
    "data = pd.read_csv('Toyoto_Corrola.csv', index_col=0)\n",
    "data"
   ]
  },
  {
   "cell_type": "code",
   "execution_count": 158,
   "metadata": {},
   "outputs": [
    {
     "name": "stdout",
     "output_type": "stream",
     "text": [
      "<class 'pandas.core.frame.DataFrame'>\n",
      "Int64Index: 1436 entries, 1 to 1442\n",
      "Data columns (total 9 columns):\n",
      " #   Column     Non-Null Count  Dtype \n",
      "---  ------     --------------  ----- \n",
      " 0   Model      1436 non-null   object\n",
      " 1   Price      1436 non-null   int64 \n",
      " 2   Age_08_04  1436 non-null   int64 \n",
      " 3   KM         1436 non-null   int64 \n",
      " 4   HP         1436 non-null   int64 \n",
      " 5   Doors      1436 non-null   int64 \n",
      " 6   Cylinders  1436 non-null   int64 \n",
      " 7   Gears      1436 non-null   int64 \n",
      " 8   Weight     1436 non-null   int64 \n",
      "dtypes: int64(8), object(1)\n",
      "memory usage: 112.2+ KB\n"
     ]
    }
   ],
   "source": [
    "data.info()"
   ]
  },
  {
   "cell_type": "code",
   "execution_count": 159,
   "metadata": {},
   "outputs": [
    {
     "data": {
      "text/html": [
       "<div>\n",
       "<style scoped>\n",
       "    .dataframe tbody tr th:only-of-type {\n",
       "        vertical-align: middle;\n",
       "    }\n",
       "\n",
       "    .dataframe tbody tr th {\n",
       "        vertical-align: top;\n",
       "    }\n",
       "\n",
       "    .dataframe thead th {\n",
       "        text-align: right;\n",
       "    }\n",
       "</style>\n",
       "<table border=\"1\" class=\"dataframe\">\n",
       "  <thead>\n",
       "    <tr style=\"text-align: right;\">\n",
       "      <th></th>\n",
       "      <th>Price</th>\n",
       "      <th>Age_08_04</th>\n",
       "      <th>KM</th>\n",
       "      <th>HP</th>\n",
       "      <th>Doors</th>\n",
       "      <th>Cylinders</th>\n",
       "      <th>Gears</th>\n",
       "      <th>Weight</th>\n",
       "    </tr>\n",
       "  </thead>\n",
       "  <tbody>\n",
       "    <tr>\n",
       "      <th>count</th>\n",
       "      <td>1436.0000</td>\n",
       "      <td>1436.0000</td>\n",
       "      <td>1436.0000</td>\n",
       "      <td>1436.0000</td>\n",
       "      <td>1436.0000</td>\n",
       "      <td>1436.0</td>\n",
       "      <td>1436.0000</td>\n",
       "      <td>1436.0000</td>\n",
       "    </tr>\n",
       "    <tr>\n",
       "      <th>mean</th>\n",
       "      <td>10730.8245</td>\n",
       "      <td>55.9471</td>\n",
       "      <td>68533.2597</td>\n",
       "      <td>101.5021</td>\n",
       "      <td>4.0334</td>\n",
       "      <td>4.0</td>\n",
       "      <td>5.0265</td>\n",
       "      <td>1072.4596</td>\n",
       "    </tr>\n",
       "    <tr>\n",
       "      <th>std</th>\n",
       "      <td>3626.9646</td>\n",
       "      <td>18.6000</td>\n",
       "      <td>37506.4489</td>\n",
       "      <td>14.9811</td>\n",
       "      <td>0.9527</td>\n",
       "      <td>0.0</td>\n",
       "      <td>0.1885</td>\n",
       "      <td>52.6411</td>\n",
       "    </tr>\n",
       "    <tr>\n",
       "      <th>min</th>\n",
       "      <td>4350.0000</td>\n",
       "      <td>1.0000</td>\n",
       "      <td>1.0000</td>\n",
       "      <td>69.0000</td>\n",
       "      <td>2.0000</td>\n",
       "      <td>4.0</td>\n",
       "      <td>3.0000</td>\n",
       "      <td>1000.0000</td>\n",
       "    </tr>\n",
       "    <tr>\n",
       "      <th>25%</th>\n",
       "      <td>8450.0000</td>\n",
       "      <td>44.0000</td>\n",
       "      <td>43000.0000</td>\n",
       "      <td>90.0000</td>\n",
       "      <td>3.0000</td>\n",
       "      <td>4.0</td>\n",
       "      <td>5.0000</td>\n",
       "      <td>1040.0000</td>\n",
       "    </tr>\n",
       "    <tr>\n",
       "      <th>50%</th>\n",
       "      <td>9900.0000</td>\n",
       "      <td>61.0000</td>\n",
       "      <td>63389.5000</td>\n",
       "      <td>110.0000</td>\n",
       "      <td>4.0000</td>\n",
       "      <td>4.0</td>\n",
       "      <td>5.0000</td>\n",
       "      <td>1070.0000</td>\n",
       "    </tr>\n",
       "    <tr>\n",
       "      <th>75%</th>\n",
       "      <td>11950.0000</td>\n",
       "      <td>70.0000</td>\n",
       "      <td>87020.7500</td>\n",
       "      <td>110.0000</td>\n",
       "      <td>5.0000</td>\n",
       "      <td>4.0</td>\n",
       "      <td>5.0000</td>\n",
       "      <td>1085.0000</td>\n",
       "    </tr>\n",
       "    <tr>\n",
       "      <th>max</th>\n",
       "      <td>32500.0000</td>\n",
       "      <td>80.0000</td>\n",
       "      <td>243000.0000</td>\n",
       "      <td>192.0000</td>\n",
       "      <td>5.0000</td>\n",
       "      <td>4.0</td>\n",
       "      <td>6.0000</td>\n",
       "      <td>1615.0000</td>\n",
       "    </tr>\n",
       "  </tbody>\n",
       "</table>\n",
       "</div>"
      ],
      "text/plain": [
       "            Price  Age_08_04           KM         HP      Doors  Cylinders  \\\n",
       "count   1436.0000  1436.0000    1436.0000  1436.0000  1436.0000     1436.0   \n",
       "mean   10730.8245    55.9471   68533.2597   101.5021     4.0334        4.0   \n",
       "std     3626.9646    18.6000   37506.4489    14.9811     0.9527        0.0   \n",
       "min     4350.0000     1.0000       1.0000    69.0000     2.0000        4.0   \n",
       "25%     8450.0000    44.0000   43000.0000    90.0000     3.0000        4.0   \n",
       "50%     9900.0000    61.0000   63389.5000   110.0000     4.0000        4.0   \n",
       "75%    11950.0000    70.0000   87020.7500   110.0000     5.0000        4.0   \n",
       "max    32500.0000    80.0000  243000.0000   192.0000     5.0000        4.0   \n",
       "\n",
       "           Gears     Weight  \n",
       "count  1436.0000  1436.0000  \n",
       "mean      5.0265  1072.4596  \n",
       "std       0.1885    52.6411  \n",
       "min       3.0000  1000.0000  \n",
       "25%       5.0000  1040.0000  \n",
       "50%       5.0000  1070.0000  \n",
       "75%       5.0000  1085.0000  \n",
       "max       6.0000  1615.0000  "
      ]
     },
     "execution_count": 159,
     "metadata": {},
     "output_type": "execute_result"
    }
   ],
   "source": [
    "data.describe().round(4)"
   ]
  },
  {
   "cell_type": "code",
   "execution_count": 160,
   "metadata": {},
   "outputs": [],
   "source": [
    "data = data.drop('Model', axis=1)"
   ]
  },
  {
   "cell_type": "code",
   "execution_count": 161,
   "metadata": {},
   "outputs": [
    {
     "data": {
      "text/plain": [
       "Price        0\n",
       "Age_08_04    0\n",
       "KM           0\n",
       "HP           0\n",
       "Doors        0\n",
       "Cylinders    0\n",
       "Gears        0\n",
       "Weight       0\n",
       "dtype: int64"
      ]
     },
     "execution_count": 161,
     "metadata": {},
     "output_type": "execute_result"
    }
   ],
   "source": [
    "data.isnull().sum()"
   ]
  },
  {
   "cell_type": "code",
   "execution_count": 162,
   "metadata": {},
   "outputs": [
    {
     "data": {
      "image/png": "[encoded data removed]",
      "text/plain": [
       "<Figure size 432x288 with 1 Axes>"
      ]
     },
     "metadata": {
      "needs_background": "light"
     },
     "output_type": "display_data"
    }
   ],
   "source": [
    "plt.boxplot(data['Age_08_04'], vert=True)\n",
    "plt.show()"
   ]
  },
  {
   "cell_type": "code",
   "execution_count": 163,
   "metadata": {},
   "outputs": [
    {
     "data": {
      "image/png": "[encoded data removed]",
      "text/plain": [
       "<Figure size 432x288 with 1 Axes>"
      ]
     },
     "metadata": {
      "needs_background": "light"
     },
     "output_type": "display_data"
    }
   ],
   "source": [
    "plt.boxplot(data['KM'], vert=True)\n",
    "plt.show()"
   ]
  },
  {
   "cell_type": "code",
   "execution_count": 164,
   "metadata": {},
   "outputs": [
    {
     "data": {
      "image/png": "[encoded data removed]",
      "text/plain": [
       "<Figure size 432x288 with 1 Axes>"
      ]
     },
     "metadata": {
      "needs_background": "light"
     },
     "output_type": "display_data"
    }
   ],
   "source": [
    "plt.boxplot(data['HP'], vert = True)\n",
    "plt.show()"
   ]
  },
  {
   "cell_type": "code",
   "execution_count": 165,
   "metadata": {},
   "outputs": [
    {
     "data": {
      "image/png": "[encoded data removed]",
      "text/plain": [
       "<Figure size 432x288 with 1 Axes>"
      ]
     },
     "metadata": {
      "needs_background": "light"
     },
     "output_type": "display_data"
    }
   ],
   "source": [
    "plt.boxplot(data['Doors'], vert=True)\n",
    "plt.show()"
   ]
  },
  {
   "cell_type": "code",
   "execution_count": 166,
   "metadata": {},
   "outputs": [
    {
     "data": {
      "image/png": "[encoded data removed]",
      "text/plain": [
       "<Figure size 432x288 with 1 Axes>"
      ]
     },
     "metadata": {
      "needs_background": "light"
     },
     "output_type": "display_data"
    }
   ],
   "source": [
    "plt.boxplot(data['Cylinders'], vert=True)\n",
    "plt.show()"
   ]
  },
  {
   "cell_type": "code",
   "execution_count": 167,
   "metadata": {},
   "outputs": [
    {
     "data": {
      "image/png": "[encoded data removed]",
      "text/plain": [
       "<Figure size 432x288 with 1 Axes>"
      ]
     },
     "metadata": {
      "needs_background": "light"
     },
     "output_type": "display_data"
    }
   ],
   "source": [
    "plt.boxplot(data['Gears'], vert=True)\n",
    "plt.show()"
   ]
  },
  {
   "cell_type": "code",
   "execution_count": 168,
   "metadata": {},
   "outputs": [
    {
     "data": {
      "image/png": "[encoded data removed]",
      "text/plain": [
       "<Figure size 432x288 with 1 Axes>"
      ]
     },
     "metadata": {
      "needs_background": "light"
     },
     "output_type": "display_data"
    }
   ],
   "source": [
    "plt.boxplot(data['Weight'], vert=True)\n",
    "plt.show()"
   ]
  },
  {
   "cell_type": "code",
   "execution_count": 169,
   "metadata": {},
   "outputs": [],
   "source": [
    "data.drop(data[data[\"HP\"] > 180].index, axis = 0, inplace=True)"
   ]
  },
  {
   "cell_type": "code",
   "execution_count": 170,
   "metadata": {},
   "outputs": [
    {
     "data": {
      "image/png": "[encoded data removed]",
      "text/plain": [
       "<Figure size 432x288 with 1 Axes>"
      ]
     },
     "metadata": {
      "needs_background": "light"
     },
     "output_type": "display_data"
    }
   ],
   "source": [
    "plt.boxplot(data['HP'], vert = True)\n",
    "plt.show()"
   ]
  },
  {
   "cell_type": "code",
   "execution_count": 171,
   "metadata": {},
   "outputs": [],
   "source": [
    "x = data[['Age_08_04', 'KM','HP','Doors','Cylinders','Gears','Weight' ]]\n",
    "y =data[['Price']]"
   ]
  },
  {
   "cell_type": "code",
   "execution_count": 172,
   "metadata": {},
   "outputs": [
    {
     "data": {
      "text/plain": [
       "<AxesSubplot:>"
      ]
     },
     "execution_count": 172,
     "metadata": {},
     "output_type": "execute_result"
    },
    {
     "data": {
      "image/png": "[encoded data removed]",
      "text/plain": [
       "<Figure size 432x288 with 2 Axes>"
      ]
     },
     "metadata": {
      "needs_background": "light"
     },
     "output_type": "display_data"
    }
   ],
   "source": [
    "sns.heatmap(data.corr(), annot=True)"
   ]
  },
  {
   "cell_type": "code",
   "execution_count": 173,
   "metadata": {},
   "outputs": [
    {
     "data": {
      "text/plain": [
       "Index(['Price', 'Age_08_04', 'KM', 'HP', 'Doors', 'Cylinders', 'Gears',\n",
       "       'Weight'],\n",
       "      dtype='object')"
      ]
     },
     "execution_count": 173,
     "metadata": {},
     "output_type": "execute_result"
    }
   ],
   "source": [
    "data.columns"
   ]
  },
  {
   "cell_type": "code",
   "execution_count": 174,
   "metadata": {},
   "outputs": [
    {
     "data": {
      "text/html": [
       "<div>\n",
       "<style scoped>\n",
       "    .dataframe tbody tr th:only-of-type {\n",
       "        vertical-align: middle;\n",
       "    }\n",
       "\n",
       "    .dataframe tbody tr th {\n",
       "        vertical-align: top;\n",
       "    }\n",
       "\n",
       "    .dataframe thead th {\n",
       "        text-align: right;\n",
       "    }\n",
       "</style>\n",
       "<table border=\"1\" class=\"dataframe\">\n",
       "  <thead>\n",
       "    <tr style=\"text-align: right;\">\n",
       "      <th></th>\n",
       "      <th>Age_08_04</th>\n",
       "      <th>KM</th>\n",
       "      <th>HP</th>\n",
       "      <th>Doors</th>\n",
       "      <th>Cylinders</th>\n",
       "      <th>Gears</th>\n",
       "      <th>Weight</th>\n",
       "    </tr>\n",
       "    <tr>\n",
       "      <th>Id</th>\n",
       "      <th></th>\n",
       "      <th></th>\n",
       "      <th></th>\n",
       "      <th></th>\n",
       "      <th></th>\n",
       "      <th></th>\n",
       "      <th></th>\n",
       "    </tr>\n",
       "  </thead>\n",
       "  <tbody>\n",
       "    <tr>\n",
       "      <th>1</th>\n",
       "      <td>23</td>\n",
       "      <td>46986</td>\n",
       "      <td>90</td>\n",
       "      <td>3</td>\n",
       "      <td>4</td>\n",
       "      <td>5</td>\n",
       "      <td>1165</td>\n",
       "    </tr>\n",
       "    <tr>\n",
       "      <th>2</th>\n",
       "      <td>23</td>\n",
       "      <td>72937</td>\n",
       "      <td>90</td>\n",
       "      <td>3</td>\n",
       "      <td>4</td>\n",
       "      <td>5</td>\n",
       "      <td>1165</td>\n",
       "    </tr>\n",
       "    <tr>\n",
       "      <th>3</th>\n",
       "      <td>24</td>\n",
       "      <td>41711</td>\n",
       "      <td>90</td>\n",
       "      <td>3</td>\n",
       "      <td>4</td>\n",
       "      <td>5</td>\n",
       "      <td>1165</td>\n",
       "    </tr>\n",
       "    <tr>\n",
       "      <th>4</th>\n",
       "      <td>26</td>\n",
       "      <td>48000</td>\n",
       "      <td>90</td>\n",
       "      <td>3</td>\n",
       "      <td>4</td>\n",
       "      <td>5</td>\n",
       "      <td>1165</td>\n",
       "    </tr>\n",
       "    <tr>\n",
       "      <th>5</th>\n",
       "      <td>30</td>\n",
       "      <td>38500</td>\n",
       "      <td>90</td>\n",
       "      <td>3</td>\n",
       "      <td>4</td>\n",
       "      <td>5</td>\n",
       "      <td>1170</td>\n",
       "    </tr>\n",
       "    <tr>\n",
       "      <th>...</th>\n",
       "      <td>...</td>\n",
       "      <td>...</td>\n",
       "      <td>...</td>\n",
       "      <td>...</td>\n",
       "      <td>...</td>\n",
       "      <td>...</td>\n",
       "      <td>...</td>\n",
       "    </tr>\n",
       "    <tr>\n",
       "      <th>1438</th>\n",
       "      <td>69</td>\n",
       "      <td>20544</td>\n",
       "      <td>86</td>\n",
       "      <td>3</td>\n",
       "      <td>4</td>\n",
       "      <td>5</td>\n",
       "      <td>1025</td>\n",
       "    </tr>\n",
       "    <tr>\n",
       "      <th>1439</th>\n",
       "      <td>72</td>\n",
       "      <td>19000</td>\n",
       "      <td>86</td>\n",
       "      <td>3</td>\n",
       "      <td>4</td>\n",
       "      <td>5</td>\n",
       "      <td>1015</td>\n",
       "    </tr>\n",
       "    <tr>\n",
       "      <th>1440</th>\n",
       "      <td>71</td>\n",
       "      <td>17016</td>\n",
       "      <td>86</td>\n",
       "      <td>3</td>\n",
       "      <td>4</td>\n",
       "      <td>5</td>\n",
       "      <td>1015</td>\n",
       "    </tr>\n",
       "    <tr>\n",
       "      <th>1441</th>\n",
       "      <td>70</td>\n",
       "      <td>16916</td>\n",
       "      <td>86</td>\n",
       "      <td>3</td>\n",
       "      <td>4</td>\n",
       "      <td>5</td>\n",
       "      <td>1015</td>\n",
       "    </tr>\n",
       "    <tr>\n",
       "      <th>1442</th>\n",
       "      <td>76</td>\n",
       "      <td>1</td>\n",
       "      <td>110</td>\n",
       "      <td>5</td>\n",
       "      <td>4</td>\n",
       "      <td>5</td>\n",
       "      <td>1114</td>\n",
       "    </tr>\n",
       "  </tbody>\n",
       "</table>\n",
       "<p>1425 rows × 7 columns</p>\n",
       "</div>"
      ],
      "text/plain": [
       "      Age_08_04     KM   HP  Doors  Cylinders  Gears  Weight\n",
       "Id                                                          \n",
       "1            23  46986   90      3          4      5    1165\n",
       "2            23  72937   90      3          4      5    1165\n",
       "3            24  41711   90      3          4      5    1165\n",
       "4            26  48000   90      3          4      5    1165\n",
       "5            30  38500   90      3          4      5    1170\n",
       "...         ...    ...  ...    ...        ...    ...     ...\n",
       "1438         69  20544   86      3          4      5    1025\n",
       "1439         72  19000   86      3          4      5    1015\n",
       "1440         71  17016   86      3          4      5    1015\n",
       "1441         70  16916   86      3          4      5    1015\n",
       "1442         76      1  110      5          4      5    1114\n",
       "\n",
       "[1425 rows x 7 columns]"
      ]
     },
     "execution_count": 174,
     "metadata": {},
     "output_type": "execute_result"
    }
   ],
   "source": [
    "x"
   ]
  },
  {
   "cell_type": "code",
   "execution_count": 175,
   "metadata": {},
   "outputs": [
    {
     "data": {
      "text/html": [
       "<div>\n",
       "<style scoped>\n",
       "    .dataframe tbody tr th:only-of-type {\n",
       "        vertical-align: middle;\n",
       "    }\n",
       "\n",
       "    .dataframe tbody tr th {\n",
       "        vertical-align: top;\n",
       "    }\n",
       "\n",
       "    .dataframe thead th {\n",
       "        text-align: right;\n",
       "    }\n",
       "</style>\n",
       "<table border=\"1\" class=\"dataframe\">\n",
       "  <thead>\n",
       "    <tr style=\"text-align: right;\">\n",
       "      <th></th>\n",
       "      <th>Price</th>\n",
       "    </tr>\n",
       "    <tr>\n",
       "      <th>Id</th>\n",
       "      <th></th>\n",
       "    </tr>\n",
       "  </thead>\n",
       "  <tbody>\n",
       "    <tr>\n",
       "      <th>1</th>\n",
       "      <td>13500</td>\n",
       "    </tr>\n",
       "    <tr>\n",
       "      <th>2</th>\n",
       "      <td>13750</td>\n",
       "    </tr>\n",
       "    <tr>\n",
       "      <th>3</th>\n",
       "      <td>13950</td>\n",
       "    </tr>\n",
       "    <tr>\n",
       "      <th>4</th>\n",
       "      <td>14950</td>\n",
       "    </tr>\n",
       "    <tr>\n",
       "      <th>5</th>\n",
       "      <td>13750</td>\n",
       "    </tr>\n",
       "    <tr>\n",
       "      <th>...</th>\n",
       "      <td>...</td>\n",
       "    </tr>\n",
       "    <tr>\n",
       "      <th>1438</th>\n",
       "      <td>7500</td>\n",
       "    </tr>\n",
       "    <tr>\n",
       "      <th>1439</th>\n",
       "      <td>10845</td>\n",
       "    </tr>\n",
       "    <tr>\n",
       "      <th>1440</th>\n",
       "      <td>8500</td>\n",
       "    </tr>\n",
       "    <tr>\n",
       "      <th>1441</th>\n",
       "      <td>7250</td>\n",
       "    </tr>\n",
       "    <tr>\n",
       "      <th>1442</th>\n",
       "      <td>6950</td>\n",
       "    </tr>\n",
       "  </tbody>\n",
       "</table>\n",
       "<p>1425 rows × 1 columns</p>\n",
       "</div>"
      ],
      "text/plain": [
       "      Price\n",
       "Id         \n",
       "1     13500\n",
       "2     13750\n",
       "3     13950\n",
       "4     14950\n",
       "5     13750\n",
       "...     ...\n",
       "1438   7500\n",
       "1439  10845\n",
       "1440   8500\n",
       "1441   7250\n",
       "1442   6950\n",
       "\n",
       "[1425 rows x 1 columns]"
      ]
     },
     "execution_count": 175,
     "metadata": {},
     "output_type": "execute_result"
    }
   ],
   "source": [
    "y"
   ]
  },
  {
   "cell_type": "code",
   "execution_count": 176,
   "metadata": {},
   "outputs": [
    {
     "data": {
      "text/plain": [
       "(1425, 8)"
      ]
     },
     "execution_count": 176,
     "metadata": {},
     "output_type": "execute_result"
    }
   ],
   "source": [
    "data.shape"
   ]
  },
  {
   "cell_type": "code",
   "execution_count": 177,
   "metadata": {},
   "outputs": [
    {
     "data": {
      "text/plain": [
       "(1425, 7)"
      ]
     },
     "execution_count": 177,
     "metadata": {},
     "output_type": "execute_result"
    }
   ],
   "source": [
    "x.shape\n"
   ]
  },
  {
   "cell_type": "code",
   "execution_count": 178,
   "metadata": {},
   "outputs": [
    {
     "data": {
      "text/plain": [
       "(1425, 1)"
      ]
     },
     "execution_count": 178,
     "metadata": {},
     "output_type": "execute_result"
    }
   ],
   "source": [
    "y.shape"
   ]
  },
  {
   "cell_type": "code",
   "execution_count": 179,
   "metadata": {},
   "outputs": [
    {
     "data": {
      "text/html": [
       "<div>\n",
       "<style scoped>\n",
       "    .dataframe tbody tr th:only-of-type {\n",
       "        vertical-align: middle;\n",
       "    }\n",
       "\n",
       "    .dataframe tbody tr th {\n",
       "        vertical-align: top;\n",
       "    }\n",
       "\n",
       "    .dataframe thead th {\n",
       "        text-align: right;\n",
       "    }\n",
       "</style>\n",
       "<table border=\"1\" class=\"dataframe\">\n",
       "  <thead>\n",
       "    <tr style=\"text-align: right;\">\n",
       "      <th></th>\n",
       "      <th>Price</th>\n",
       "    </tr>\n",
       "    <tr>\n",
       "      <th>Id</th>\n",
       "      <th></th>\n",
       "    </tr>\n",
       "  </thead>\n",
       "  <tbody>\n",
       "    <tr>\n",
       "      <th>1</th>\n",
       "      <td>13500</td>\n",
       "    </tr>\n",
       "    <tr>\n",
       "      <th>2</th>\n",
       "      <td>13750</td>\n",
       "    </tr>\n",
       "    <tr>\n",
       "      <th>3</th>\n",
       "      <td>13950</td>\n",
       "    </tr>\n",
       "    <tr>\n",
       "      <th>4</th>\n",
       "      <td>14950</td>\n",
       "    </tr>\n",
       "    <tr>\n",
       "      <th>5</th>\n",
       "      <td>13750</td>\n",
       "    </tr>\n",
       "    <tr>\n",
       "      <th>...</th>\n",
       "      <td>...</td>\n",
       "    </tr>\n",
       "    <tr>\n",
       "      <th>1438</th>\n",
       "      <td>7500</td>\n",
       "    </tr>\n",
       "    <tr>\n",
       "      <th>1439</th>\n",
       "      <td>10845</td>\n",
       "    </tr>\n",
       "    <tr>\n",
       "      <th>1440</th>\n",
       "      <td>8500</td>\n",
       "    </tr>\n",
       "    <tr>\n",
       "      <th>1441</th>\n",
       "      <td>7250</td>\n",
       "    </tr>\n",
       "    <tr>\n",
       "      <th>1442</th>\n",
       "      <td>6950</td>\n",
       "    </tr>\n",
       "  </tbody>\n",
       "</table>\n",
       "<p>1425 rows × 1 columns</p>\n",
       "</div>"
      ],
      "text/plain": [
       "      Price\n",
       "Id         \n",
       "1     13500\n",
       "2     13750\n",
       "3     13950\n",
       "4     14950\n",
       "5     13750\n",
       "...     ...\n",
       "1438   7500\n",
       "1439  10845\n",
       "1440   8500\n",
       "1441   7250\n",
       "1442   6950\n",
       "\n",
       "[1425 rows x 1 columns]"
      ]
     },
     "execution_count": 179,
     "metadata": {},
     "output_type": "execute_result"
    }
   ],
   "source": [
    "y"
   ]
  },
  {
   "cell_type": "code",
   "execution_count": 180,
   "metadata": {},
   "outputs": [],
   "source": [
    "from sklearn.model_selection import train_test_split\n",
    "x_train, x_test, y_train,y_test = train_test_split(x,y,test_size=0.2)"
   ]
  },
  {
   "cell_type": "code",
   "execution_count": 181,
   "metadata": {},
   "outputs": [
    {
     "name": "stdout",
     "output_type": "stream",
     "text": [
      "(1140, 7)\n",
      "(285, 7)\n",
      "(1140, 1)\n",
      "(285, 1)\n"
     ]
    }
   ],
   "source": [
    "print(x_train.shape)\n",
    "print(x_test.shape)\n",
    "print(y_train.shape)\n",
    "print(y_test.shape)"
   ]
  },
  {
   "cell_type": "code",
   "execution_count": 182,
   "metadata": {},
   "outputs": [],
   "source": [
    "from sklearn.linear_model import LinearRegression\n",
    "lm = LinearRegression()"
   ]
  },
  {
   "cell_type": "code",
   "execution_count": 183,
   "metadata": {},
   "outputs": [
    {
     "data": {
      "text/plain": [
       "LinearRegression()"
      ]
     },
     "execution_count": 183,
     "metadata": {},
     "output_type": "execute_result"
    }
   ],
   "source": [
    "lm.fit(x_train, y_train)"
   ]
  },
  {
   "cell_type": "code",
   "execution_count": 184,
   "metadata": {},
   "outputs": [
    {
     "name": "stdout",
     "output_type": "stream",
     "text": [
      "[[-1.23181739e+02 -2.14369198e-02  1.97431310e+01  4.74608990e+01\n",
      "   0.00000000e+00  5.56030926e+02  1.69897477e+01]]\n"
     ]
    }
   ],
   "source": [
    "print(lm.coef_)"
   ]
  },
  {
   "cell_type": "code",
   "execution_count": 185,
   "metadata": {},
   "outputs": [
    {
     "name": "stdout",
     "output_type": "stream",
     "text": [
      "[-4165.5403854]\n"
     ]
    }
   ],
   "source": [
    "print(lm.intercept_)"
   ]
  },
  {
   "cell_type": "code",
   "execution_count": 186,
   "metadata": {},
   "outputs": [],
   "source": [
    "y_pred = lm.predict(x_test)"
   ]
  },
  {
   "cell_type": "code",
   "execution_count": 187,
   "metadata": {},
   "outputs": [
    {
     "data": {
      "text/plain": [
       "array([[14590.41646373],\n",
       "       [10655.58810865],\n",
       "       [10663.90782032],\n",
       "       [18161.36508998],\n",
       "       [ 9471.88020575],\n",
       "       [13128.10873227],\n",
       "       [11806.49721267],\n",
       "       [13102.81252434],\n",
       "       [ 9405.96054512],\n",
       "       [ 7152.47427243],\n",
       "       [ 7751.07291089],\n",
       "       [ 7336.4920216 ],\n",
       "       [ 9156.35722324],\n",
       "       [11392.42536828],\n",
       "       [17656.40444432],\n",
       "       [10081.09232325],\n",
       "       [ 9361.05055213],\n",
       "       [ 8702.87734788],\n",
       "       [17265.39407674],\n",
       "       [ 8595.22504674],\n",
       "       [ 9465.8370513 ],\n",
       "       [ 8542.23964682],\n",
       "       [12357.05553295],\n",
       "       [12716.01479167],\n",
       "       [ 9039.56065898],\n",
       "       [18673.44151906],\n",
       "       [ 9839.05360145],\n",
       "       [ 8320.99492791],\n",
       "       [ 8523.84228316],\n",
       "       [11370.52944418],\n",
       "       [12119.77292776],\n",
       "       [17518.88704533],\n",
       "       [ 7747.35976958],\n",
       "       [12320.63686474],\n",
       "       [ 7779.7399149 ],\n",
       "       [ 7363.80982416],\n",
       "       [13191.36051967],\n",
       "       [ 9477.64666968],\n",
       "       [15808.2532195 ],\n",
       "       [ 9173.88870547],\n",
       "       [13517.15628157],\n",
       "       [ 6224.5927265 ],\n",
       "       [ 9539.32075541],\n",
       "       [ 9950.20036761],\n",
       "       [ 7509.1579151 ],\n",
       "       [ 6944.86049653],\n",
       "       [ 9785.62240089],\n",
       "       [13302.74940805],\n",
       "       [16968.63552147],\n",
       "       [ 6644.23307463],\n",
       "       [ 7252.25532327],\n",
       "       [12794.57682799],\n",
       "       [ 8005.79495473],\n",
       "       [ 5945.65960654],\n",
       "       [15518.46889739],\n",
       "       [11927.14596475],\n",
       "       [11449.65552666],\n",
       "       [ 7253.51096209],\n",
       "       [ 8046.3002692 ],\n",
       "       [ 6407.29657496],\n",
       "       [ 9292.89544356],\n",
       "       [16462.56519336],\n",
       "       [ 9170.99407715],\n",
       "       [ 9350.9362259 ],\n",
       "       [12281.41681483],\n",
       "       [14304.65128245],\n",
       "       [ 8000.19472045],\n",
       "       [ 7831.33553085],\n",
       "       [ 8401.1695615 ],\n",
       "       [ 8139.2055059 ],\n",
       "       [ 8241.84519848],\n",
       "       [ 9391.41895047],\n",
       "       [ 9703.82005931],\n",
       "       [ 7281.75266412],\n",
       "       [ 7470.82805848],\n",
       "       [15745.3366093 ],\n",
       "       [10261.32596633],\n",
       "       [ 8784.12740722],\n",
       "       [ 9625.3658308 ],\n",
       "       [16668.37267128],\n",
       "       [10837.3597806 ],\n",
       "       [ 8619.28440118],\n",
       "       [ 7755.0446508 ],\n",
       "       [ 9552.45461271],\n",
       "       [ 7960.69479711],\n",
       "       [ 7996.76729086],\n",
       "       [ 6199.62537531],\n",
       "       [13264.95098918],\n",
       "       [13472.1589678 ],\n",
       "       [10787.20201142],\n",
       "       [11381.12505732],\n",
       "       [ 9827.17051612],\n",
       "       [ 8865.77650136],\n",
       "       [12404.93845038],\n",
       "       [12176.52393175],\n",
       "       [ 7679.72829676],\n",
       "       [13305.65684424],\n",
       "       [10148.83078604],\n",
       "       [16363.83599684],\n",
       "       [ 9107.52462347],\n",
       "       [12872.13859042],\n",
       "       [17924.34600463],\n",
       "       [ 9278.02029783],\n",
       "       [10513.1975128 ],\n",
       "       [20987.92851037],\n",
       "       [ 5399.44665141],\n",
       "       [ 4415.05378114],\n",
       "       [10555.61447889],\n",
       "       [ 5277.16917265],\n",
       "       [ 7829.2877439 ],\n",
       "       [ 9544.67616573],\n",
       "       [17562.87622157],\n",
       "       [ 8449.68945894],\n",
       "       [ 8390.18107925],\n",
       "       [13453.74756641],\n",
       "       [ 6454.47074   ],\n",
       "       [11400.03843422],\n",
       "       [15966.22296703],\n",
       "       [11337.13585388],\n",
       "       [10387.24059092],\n",
       "       [ 8408.0652098 ],\n",
       "       [10596.93191863],\n",
       "       [11338.9175283 ],\n",
       "       [10874.64293196],\n",
       "       [ 8128.76022529],\n",
       "       [15306.8261403 ],\n",
       "       [ 7506.9018403 ],\n",
       "       [ 9985.97413646],\n",
       "       [12033.15214838],\n",
       "       [10691.63686558],\n",
       "       [ 9974.82210989],\n",
       "       [12900.20115493],\n",
       "       [10077.90719805],\n",
       "       [14095.36334607],\n",
       "       [ 6831.98185774],\n",
       "       [18883.17145867],\n",
       "       [ 7330.42880961],\n",
       "       [10873.59680544],\n",
       "       [12003.71045739],\n",
       "       [13274.9715023 ],\n",
       "       [ 8571.4438269 ],\n",
       "       [ 7763.653417  ],\n",
       "       [10174.73334308],\n",
       "       [10376.22378091],\n",
       "       [ 8975.91899831],\n",
       "       [ 8532.77961409],\n",
       "       [11687.82826697],\n",
       "       [15457.26208295],\n",
       "       [ 7626.42313206],\n",
       "       [ 8724.65597021],\n",
       "       [ 5984.98466984],\n",
       "       [ 8119.94903019],\n",
       "       [14355.07618351],\n",
       "       [ 9475.18981123],\n",
       "       [10574.51872043],\n",
       "       [11043.07083029],\n",
       "       [12920.8961009 ],\n",
       "       [14672.49117842],\n",
       "       [15831.63709274],\n",
       "       [11344.49520366],\n",
       "       [11292.45733539],\n",
       "       [11228.02784189],\n",
       "       [ 8248.2135311 ],\n",
       "       [ 8123.11921674],\n",
       "       [18840.1189166 ],\n",
       "       [ 6948.81779498],\n",
       "       [11463.13408349],\n",
       "       [17387.25393417],\n",
       "       [11445.15435005],\n",
       "       [11867.1088889 ],\n",
       "       [ 8803.55454618],\n",
       "       [ 6314.83000046],\n",
       "       [14036.11098825],\n",
       "       [ 7069.86215832],\n",
       "       [16095.23739643],\n",
       "       [ 7917.01655666],\n",
       "       [ 9125.34655509],\n",
       "       [13537.86896921],\n",
       "       [ 8080.01232811],\n",
       "       [ 6521.40010078],\n",
       "       [10380.09417776],\n",
       "       [ 7349.8237767 ],\n",
       "       [ 9490.94530324],\n",
       "       [11062.10778273],\n",
       "       [ 8671.28717938],\n",
       "       [ 6673.19163262],\n",
       "       [ 9590.20317824],\n",
       "       [13266.37679743],\n",
       "       [ 6569.29792288],\n",
       "       [ 8906.81866638],\n",
       "       [12892.42661443],\n",
       "       [11005.16292558],\n",
       "       [ 6767.10854013],\n",
       "       [15911.02289857],\n",
       "       [13178.91086749],\n",
       "       [ 7674.66874213],\n",
       "       [ 7843.97265733],\n",
       "       [ 4623.36672718],\n",
       "       [ 8591.41408983],\n",
       "       [ 7501.42717765],\n",
       "       [ 7933.80030929],\n",
       "       [10523.85009584],\n",
       "       [13565.12042355],\n",
       "       [ 6596.70391966],\n",
       "       [12727.70879124],\n",
       "       [11500.61978143],\n",
       "       [10562.14689706],\n",
       "       [13432.59867348],\n",
       "       [ 9011.4645288 ],\n",
       "       [22299.03144967],\n",
       "       [10641.59205576],\n",
       "       [15890.8133878 ],\n",
       "       [ 6519.63313391],\n",
       "       [ 9454.80468631],\n",
       "       [13854.11802552],\n",
       "       [ 6678.06756582],\n",
       "       [ 8968.9741801 ],\n",
       "       [15691.65781276],\n",
       "       [ 6763.08767778],\n",
       "       [ 9815.33726891],\n",
       "       [11159.41715813],\n",
       "       [ 8466.21783375],\n",
       "       [ 9309.90616411],\n",
       "       [18338.21967825],\n",
       "       [25708.47385335],\n",
       "       [ 7655.0545412 ],\n",
       "       [11815.08556613],\n",
       "       [ 5326.85628167],\n",
       "       [ 9114.93717594],\n",
       "       [11623.04109275],\n",
       "       [13020.6824864 ],\n",
       "       [ 8456.85557175],\n",
       "       [15458.55794664],\n",
       "       [10232.70442161],\n",
       "       [ 8981.14935953],\n",
       "       [ 8633.89262908],\n",
       "       [ 8370.09923949],\n",
       "       [11139.56878189],\n",
       "       [10778.96403725],\n",
       "       [ 5126.61599922],\n",
       "       [ 7842.56904923],\n",
       "       [10284.07750395],\n",
       "       [16725.63526678],\n",
       "       [ 7816.92839359],\n",
       "       [ 7632.63912727],\n",
       "       [ 8845.33180152],\n",
       "       [ 6676.85238264],\n",
       "       [12947.98332685],\n",
       "       [ 5309.65283152],\n",
       "       [ 7762.04041871],\n",
       "       [ 5979.94892579],\n",
       "       [11016.57705317],\n",
       "       [ 8864.76659236],\n",
       "       [12145.24570315],\n",
       "       [18382.49588169],\n",
       "       [16267.83489259],\n",
       "       [10192.34131441],\n",
       "       [ 5945.89262049],\n",
       "       [ 8896.93155305],\n",
       "       [ 9528.88026394],\n",
       "       [11945.41891684],\n",
       "       [ 9302.02380574],\n",
       "       [18636.71254762],\n",
       "       [ 9308.57038611],\n",
       "       [10798.02894264],\n",
       "       [10820.34484363],\n",
       "       [15817.47248698],\n",
       "       [12887.73084339],\n",
       "       [ 6561.1882809 ],\n",
       "       [ 7531.93235184],\n",
       "       [11732.28202127],\n",
       "       [14109.10370013],\n",
       "       [ 8234.9764918 ],\n",
       "       [ 7639.35561667],\n",
       "       [ 8355.11075221],\n",
       "       [12926.40348826],\n",
       "       [10722.06105443],\n",
       "       [13222.1524319 ],\n",
       "       [18077.05507642],\n",
       "       [ 7718.3513424 ],\n",
       "       [ 7075.89568519],\n",
       "       [12868.88150708],\n",
       "       [15781.85239427],\n",
       "       [ 8422.91318444],\n",
       "       [ 7976.89988789]])"
      ]
     },
     "execution_count": 187,
     "metadata": {},
     "output_type": "execute_result"
    }
   ],
   "source": [
    "y_pred"
   ]
  },
  {
   "cell_type": "code",
   "execution_count": 188,
   "metadata": {},
   "outputs": [
    {
     "name": "stderr",
     "output_type": "stream",
     "text": [
      "C:\\Users\\91837\\AppData\\Local\\Temp/ipykernel_6292/2358658176.py:3: SettingWithCopyWarning: \n",
      "A value is trying to be set on a copy of a slice from a DataFrame.\n",
      "Try using .loc[row_indexer,col_indexer] = value instead\n",
      "\n",
      "See the caveats in the documentation: https://pandas.pydata.org/pandas-docs/stable/user_guide/indexing.html#returning-a-view-versus-a-copy\n",
      "  new_df['Actual_Price'] = y_test\n",
      "C:\\Users\\91837\\AppData\\Local\\Temp/ipykernel_6292/2358658176.py:4: SettingWithCopyWarning: \n",
      "A value is trying to be set on a copy of a slice from a DataFrame.\n",
      "Try using .loc[row_indexer,col_indexer] = value instead\n",
      "\n",
      "See the caveats in the documentation: https://pandas.pydata.org/pandas-docs/stable/user_guide/indexing.html#returning-a-view-versus-a-copy\n",
      "  new_df['Predicted_Price'] = y_pred\n"
     ]
    },
    {
     "data": {
      "text/html": [
       "<div>\n",
       "<style scoped>\n",
       "    .dataframe tbody tr th:only-of-type {\n",
       "        vertical-align: middle;\n",
       "    }\n",
       "\n",
       "    .dataframe tbody tr th {\n",
       "        vertical-align: top;\n",
       "    }\n",
       "\n",
       "    .dataframe thead th {\n",
       "        text-align: right;\n",
       "    }\n",
       "</style>\n",
       "<table border=\"1\" class=\"dataframe\">\n",
       "  <thead>\n",
       "    <tr style=\"text-align: right;\">\n",
       "      <th></th>\n",
       "      <th>Age_08_04</th>\n",
       "      <th>KM</th>\n",
       "      <th>HP</th>\n",
       "      <th>Doors</th>\n",
       "      <th>Cylinders</th>\n",
       "      <th>Gears</th>\n",
       "      <th>Weight</th>\n",
       "      <th>Actual_Price</th>\n",
       "      <th>Predicted_Price</th>\n",
       "    </tr>\n",
       "    <tr>\n",
       "      <th>Id</th>\n",
       "      <th></th>\n",
       "      <th></th>\n",
       "      <th></th>\n",
       "      <th></th>\n",
       "      <th></th>\n",
       "      <th></th>\n",
       "      <th></th>\n",
       "      <th></th>\n",
       "      <th></th>\n",
       "    </tr>\n",
       "  </thead>\n",
       "  <tbody>\n",
       "    <tr>\n",
       "      <th>374</th>\n",
       "      <td>35</td>\n",
       "      <td>18000</td>\n",
       "      <td>110</td>\n",
       "      <td>5</td>\n",
       "      <td>4</td>\n",
       "      <td>5</td>\n",
       "      <td>1075</td>\n",
       "      <td>13995</td>\n",
       "      <td>14590.416464</td>\n",
       "    </tr>\n",
       "    <tr>\n",
       "      <th>823</th>\n",
       "      <td>60</td>\n",
       "      <td>70453</td>\n",
       "      <td>72</td>\n",
       "      <td>5</td>\n",
       "      <td>4</td>\n",
       "      <td>5</td>\n",
       "      <td>1135</td>\n",
       "      <td>10900</td>\n",
       "      <td>10655.588109</td>\n",
       "    </tr>\n",
       "    <tr>\n",
       "      <th>433</th>\n",
       "      <td>50</td>\n",
       "      <td>82805</td>\n",
       "      <td>110</td>\n",
       "      <td>3</td>\n",
       "      <td>4</td>\n",
       "      <td>5</td>\n",
       "      <td>1040</td>\n",
       "      <td>12200</td>\n",
       "      <td>10663.907820</td>\n",
       "    </tr>\n",
       "    <tr>\n",
       "      <th>144</th>\n",
       "      <td>13</td>\n",
       "      <td>21428</td>\n",
       "      <td>110</td>\n",
       "      <td>5</td>\n",
       "      <td>4</td>\n",
       "      <td>5</td>\n",
       "      <td>1130</td>\n",
       "      <td>19950</td>\n",
       "      <td>18161.365090</td>\n",
       "    </tr>\n",
       "    <tr>\n",
       "      <th>840</th>\n",
       "      <td>68</td>\n",
       "      <td>67146</td>\n",
       "      <td>110</td>\n",
       "      <td>5</td>\n",
       "      <td>4</td>\n",
       "      <td>5</td>\n",
       "      <td>1075</td>\n",
       "      <td>10950</td>\n",
       "      <td>9471.880206</td>\n",
       "    </tr>\n",
       "    <tr>\n",
       "      <th>...</th>\n",
       "      <td>...</td>\n",
       "      <td>...</td>\n",
       "      <td>...</td>\n",
       "      <td>...</td>\n",
       "      <td>...</td>\n",
       "      <td>...</td>\n",
       "      <td>...</td>\n",
       "      <td>...</td>\n",
       "      <td>...</td>\n",
       "    </tr>\n",
       "    <tr>\n",
       "      <th>1116</th>\n",
       "      <td>74</td>\n",
       "      <td>120196</td>\n",
       "      <td>110</td>\n",
       "      <td>3</td>\n",
       "      <td>4</td>\n",
       "      <td>5</td>\n",
       "      <td>1050</td>\n",
       "      <td>7750</td>\n",
       "      <td>7075.895685</td>\n",
       "    </tr>\n",
       "    <tr>\n",
       "      <th>556</th>\n",
       "      <td>49</td>\n",
       "      <td>41636</td>\n",
       "      <td>110</td>\n",
       "      <td>5</td>\n",
       "      <td>4</td>\n",
       "      <td>5</td>\n",
       "      <td>1105</td>\n",
       "      <td>12950</td>\n",
       "      <td>12868.881507</td>\n",
       "    </tr>\n",
       "    <tr>\n",
       "      <th>605</th>\n",
       "      <td>50</td>\n",
       "      <td>1</td>\n",
       "      <td>90</td>\n",
       "      <td>3</td>\n",
       "      <td>4</td>\n",
       "      <td>5</td>\n",
       "      <td>1260</td>\n",
       "      <td>7500</td>\n",
       "      <td>15781.852394</td>\n",
       "    </tr>\n",
       "    <tr>\n",
       "      <th>662</th>\n",
       "      <td>68</td>\n",
       "      <td>112116</td>\n",
       "      <td>110</td>\n",
       "      <td>5</td>\n",
       "      <td>4</td>\n",
       "      <td>5</td>\n",
       "      <td>1070</td>\n",
       "      <td>9950</td>\n",
       "      <td>8422.913184</td>\n",
       "    </tr>\n",
       "    <tr>\n",
       "      <th>1262</th>\n",
       "      <td>75</td>\n",
       "      <td>76382</td>\n",
       "      <td>110</td>\n",
       "      <td>3</td>\n",
       "      <td>4</td>\n",
       "      <td>5</td>\n",
       "      <td>1055</td>\n",
       "      <td>7950</td>\n",
       "      <td>7976.899888</td>\n",
       "    </tr>\n",
       "  </tbody>\n",
       "</table>\n",
       "<p>285 rows × 9 columns</p>\n",
       "</div>"
      ],
      "text/plain": [
       "      Age_08_04      KM   HP  Doors  Cylinders  Gears  Weight  Actual_Price  \\\n",
       "Id                                                                            \n",
       "374          35   18000  110      5          4      5    1075         13995   \n",
       "823          60   70453   72      5          4      5    1135         10900   \n",
       "433          50   82805  110      3          4      5    1040         12200   \n",
       "144          13   21428  110      5          4      5    1130         19950   \n",
       "840          68   67146  110      5          4      5    1075         10950   \n",
       "...         ...     ...  ...    ...        ...    ...     ...           ...   \n",
       "1116         74  120196  110      3          4      5    1050          7750   \n",
       "556          49   41636  110      5          4      5    1105         12950   \n",
       "605          50       1   90      3          4      5    1260          7500   \n",
       "662          68  112116  110      5          4      5    1070          9950   \n",
       "1262         75   76382  110      3          4      5    1055          7950   \n",
       "\n",
       "      Predicted_Price  \n",
       "Id                     \n",
       "374      14590.416464  \n",
       "823      10655.588109  \n",
       "433      10663.907820  \n",
       "144      18161.365090  \n",
       "840       9471.880206  \n",
       "...               ...  \n",
       "1116      7075.895685  \n",
       "556      12868.881507  \n",
       "605      15781.852394  \n",
       "662       8422.913184  \n",
       "1262      7976.899888  \n",
       "\n",
       "[285 rows x 9 columns]"
      ]
     },
     "execution_count": 188,
     "metadata": {},
     "output_type": "execute_result"
    }
   ],
   "source": [
    "new_df = pd.DataFrame()\n",
    "new_df = x_test\n",
    "new_df['Actual_Price'] = y_test\n",
    "new_df['Predicted_Price'] = y_pred\n",
    "new_df\n"
   ]
  },
  {
   "cell_type": "code",
   "execution_count": 189,
   "metadata": {},
   "outputs": [
    {
     "data": {
      "text/plain": [
       "85.72002542174083"
      ]
     },
     "execution_count": 189,
     "metadata": {},
     "output_type": "execute_result"
    }
   ],
   "source": [
    "lm.score(x_train,y_train)*100"
   ]
  },
  {
   "cell_type": "code",
   "execution_count": 190,
   "metadata": {},
   "outputs": [
    {
     "name": "stdout",
     "output_type": "stream",
     "text": [
      "R-Squared:  0.8505069669513114\n",
      "RMSE:  1401.8224207413261\n"
     ]
    }
   ],
   "source": [
    "from sklearn.metrics import r2_score, mean_squared_error\n",
    "import numpy as np\n",
    "\n",
    "r2 = r2_score(y_test,y_pred)\n",
    "print(\"R-Squared: \", r2)\n",
    "\n",
    "rmse = np.sqrt(mean_squared_error(y_test, y_pred))\n",
    "print(\"RMSE: \", rmse)"
   ]
  },
  {
   "cell_type": "code",
   "execution_count": null,
   "metadata": {},
   "outputs": [],
   "source": []
  }
 ],
 "metadata": {
  "kernelspec": {
   "display_name": "base",
   "language": "python",
   "name": "python3"
  },
  "language_info": {
   "codemirror_mode": {
    "name": "ipython",
    "version": 3
   },
   "file_extension": ".py",
   "mimetype": "text/x-python",
   "name": "python",
   "nbconvert_exporter": "python",
   "pygments_lexer": "ipython3",
   "version": "3.9.7"
  },
  "orig_nbformat": 4
 },
 "nbformat": 4,
 "nbformat_minor": 2
}
